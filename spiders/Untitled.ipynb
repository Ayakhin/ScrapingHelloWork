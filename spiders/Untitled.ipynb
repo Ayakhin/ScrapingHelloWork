{
 "cells": [
  {
   "cell_type": "code",
   "execution_count": 2,
   "id": "d4089281-9aca-4c68-bca4-73366a764f81",
   "metadata": {},
   "outputs": [
    {
     "name": "stdout",
     "output_type": "stream",
     "text": [
      "Created spider 'mon_spider' using template 'basic' in module:\n",
      "  helloworkproj.spiders.mon_spider\n"
     ]
    }
   ],
   "source": [
    "!scrapy genspider mon_spider www.hellowork.com/fr-fr/"
   ]
  },
  {
   "cell_type": "code",
   "execution_count": 5,
   "id": "227ebaec-d1f3-45a9-ae35-82ef0b24b459",
   "metadata": {},
   "outputs": [
    {
     "name": "stderr",
     "output_type": "stream",
     "text": [
      "2024-03-27 11:32:19 [scrapy.utils.log] INFO: Scrapy 2.11.1 started (bot: helloworkproj)\n",
      "2024-03-27 11:32:19 [scrapy.utils.log] INFO: Versions: lxml 5.1.0.0, libxml2 2.10.3, cssselect 1.2.0, parsel 1.9.0, w3lib 2.1.2, Twisted 24.3.0, Python 3.12.2 (tags/v3.12.2:6abddd9, Feb  6 2024, 21:26:36) [MSC v.1937 64 bit (AMD64)], pyOpenSSL 24.1.0 (OpenSSL 3.2.1 30 Jan 2024), cryptography 42.0.5, Platform Windows-11-10.0.22631-SP0\n",
      "2024-03-27 11:32:19 [scrapy.addons] INFO: Enabled addons:\n",
      "[]\n",
      "2024-03-27 11:32:19 [asyncio] DEBUG: Using selector: SelectSelector\n",
      "2024-03-27 11:32:19 [scrapy.utils.log] DEBUG: Using reactor: twisted.internet.asyncioreactor.AsyncioSelectorReactor\n",
      "2024-03-27 11:32:19 [scrapy.utils.log] DEBUG: Using asyncio event loop: asyncio.windows_events._WindowsSelectorEventLoop\n",
      "2024-03-27 11:32:19 [scrapy.extensions.telnet] INFO: Telnet Password: acdb469258b26409\n",
      "2024-03-27 11:32:19 [scrapy.middleware] INFO: Enabled extensions:\n",
      "['scrapy.extensions.corestats.CoreStats',\n",
      " 'scrapy.extensions.telnet.TelnetConsole',\n",
      " 'scrapy.extensions.logstats.LogStats']\n",
      "2024-03-27 11:32:19 [scrapy.crawler] INFO: Overridden settings:\n",
      "{'BOT_NAME': 'helloworkproj',\n",
      " 'FEED_EXPORT_ENCODING': 'utf-8',\n",
      " 'NEWSPIDER_MODULE': 'helloworkproj.spiders',\n",
      " 'REQUEST_FINGERPRINTER_IMPLEMENTATION': '2.7',\n",
      " 'ROBOTSTXT_OBEY': True,\n",
      " 'SPIDER_MODULES': ['helloworkproj.spiders'],\n",
      " 'TWISTED_REACTOR': 'twisted.internet.asyncioreactor.AsyncioSelectorReactor'}\n",
      "2024-03-27 11:32:19 [scrapy.middleware] INFO: Enabled downloader middlewares:\n",
      "['scrapy.downloadermiddlewares.robotstxt.RobotsTxtMiddleware',\n",
      " 'scrapy.downloadermiddlewares.httpauth.HttpAuthMiddleware',\n",
      " 'scrapy.downloadermiddlewares.downloadtimeout.DownloadTimeoutMiddleware',\n",
      " 'scrapy.downloadermiddlewares.defaultheaders.DefaultHeadersMiddleware',\n",
      " 'scrapy.downloadermiddlewares.useragent.UserAgentMiddleware',\n",
      " 'scrapy.downloadermiddlewares.retry.RetryMiddleware',\n",
      " 'scrapy.downloadermiddlewares.redirect.MetaRefreshMiddleware',\n",
      " 'scrapy.downloadermiddlewares.httpcompression.HttpCompressionMiddleware',\n",
      " 'scrapy.downloadermiddlewares.redirect.RedirectMiddleware',\n",
      " 'scrapy.downloadermiddlewares.cookies.CookiesMiddleware',\n",
      " 'scrapy.downloadermiddlewares.httpproxy.HttpProxyMiddleware',\n",
      " 'scrapy.downloadermiddlewares.stats.DownloaderStats']\n",
      "2024-03-27 11:32:19 [scrapy.middleware] INFO: Enabled spider middlewares:\n",
      "['scrapy.spidermiddlewares.httperror.HttpErrorMiddleware',\n",
      " 'scrapy.spidermiddlewares.offsite.OffsiteMiddleware',\n",
      " 'scrapy.spidermiddlewares.referer.RefererMiddleware',\n",
      " 'scrapy.spidermiddlewares.urllength.UrlLengthMiddleware',\n",
      " 'scrapy.spidermiddlewares.depth.DepthMiddleware']\n",
      "2024-03-27 11:32:19 [scrapy.middleware] INFO: Enabled item pipelines:\n",
      "[]\n",
      "2024-03-27 11:32:19 [scrapy.core.engine] INFO: Spider opened\n",
      "2024-03-27 11:32:19 [scrapy.extensions.logstats] INFO: Crawled 0 pages (at 0 pages/min), scraped 0 items (at 0 items/min)\n",
      "2024-03-27 11:32:19 [scrapy.extensions.telnet] INFO: Telnet console listening on 127.0.0.1:6023\n",
      "2024-03-27 11:32:19 [scrapy.core.engine] DEBUG: Crawled (200) <GET https://www.hellowork.com/robots.txt> (referer: None)\n",
      "2024-03-27 11:32:19 [scrapy.core.engine] DEBUG: Crawled (200) <GET https://www.hellowork.com/fr-fr/> (referer: None)\n",
      "2024-03-27 11:32:19 [scrapy.core.scraper] DEBUG: Scraped from <200 https://www.hellowork.com/fr-fr/>\n",
      "\n",
      "{'extracted_text': 'Notre job, vous aider à choisir le vôtre parmi 888\\u202f033 offres.'}\n",
      "2024-03-27 11:32:19 [scrapy.core.engine] INFO: Closing spider (finished)\n",
      "2024-03-27 11:32:19 [scrapy.statscollectors] INFO: Dumping Scrapy stats:\n",
      "{'downloader/request_bytes': 452,\n",
      " 'downloader/request_count': 2,\n",
      " 'downloader/request_method_count/GET': 2,\n",
      " 'downloader/response_bytes': 73678,\n",
      " 'downloader/response_count': 2,\n",
      " 'downloader/response_status_count/200': 2,\n",
      " 'elapsed_time_seconds': 0.179189,\n",
      " 'finish_reason': 'finished',\n",
      " 'finish_time': datetime.datetime(2024, 3, 27, 10, 32, 19, 500359, tzinfo=datetime.timezone.utc),\n",
      " 'httpcompression/response_bytes': 266092,\n",
      " 'httpcompression/response_count': 1,\n",
      " 'item_scraped_count': 1,\n",
      " 'log_count/DEBUG': 6,\n",
      " 'log_count/INFO': 10,\n",
      " 'response_received_count': 2,\n",
      " 'robotstxt/request_count': 1,\n",
      " 'robotstxt/response_count': 1,\n",
      " 'robotstxt/response_status_count/200': 1,\n",
      " 'scheduler/dequeued': 1,\n",
      " 'scheduler/dequeued/memory': 1,\n",
      " 'scheduler/enqueued': 1,\n",
      " 'scheduler/enqueued/memory': 1,\n",
      " 'start_time': datetime.datetime(2024, 3, 27, 10, 32, 19, 321170, tzinfo=datetime.timezone.utc)}\n",
      "2024-03-27 11:32:19 [scrapy.core.engine] INFO: Spider closed (finished)\n"
     ]
    }
   ],
   "source": [
    "!scrapy crawl mon_spider"
   ]
  },
  {
   "cell_type": "code",
   "execution_count": null,
   "id": "b30b565a-c8a2-4821-90a0-282149263ce6",
   "metadata": {},
   "outputs": [],
   "source": []
  }
 ],
 "metadata": {
  "kernelspec": {
   "display_name": "Python 3 (ipykernel)",
   "language": "python",
   "name": "python3"
  },
  "language_info": {
   "codemirror_mode": {
    "name": "ipython",
    "version": 3
   },
   "file_extension": ".py",
   "mimetype": "text/x-python",
   "name": "python",
   "nbconvert_exporter": "python",
   "pygments_lexer": "ipython3",
   "version": "3.12.2"
  }
 },
 "nbformat": 4,
 "nbformat_minor": 5
}
